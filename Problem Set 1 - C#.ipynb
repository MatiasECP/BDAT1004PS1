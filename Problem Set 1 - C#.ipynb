{
 "cells": [
  {
   "cell_type": "markdown",
   "id": "247c7000",
   "metadata": {
    "slideshow": {
     "slide_type": "slide"
    }
   },
   "source": [
    "# Problem Set 1\n",
    "Student: Matias Emilio Contreras Perez,\n",
    "Student ID: 200358776"
   ]
  },
  {
   "cell_type": "markdown",
   "id": "337af2ef",
   "metadata": {
    "slideshow": {
     "slide_type": "slide"
    }
   },
   "source": [
    "# Question 1 C#"
   ]
  },
  {
   "cell_type": "code",
   "execution_count": 50,
   "id": "326f9adb",
   "metadata": {
    "slideshow": {
     "slide_type": "slide"
    }
   },
   "outputs": [
    {
     "name": "stdout",
     "output_type": "stream",
     "text": [
      "5 = integer\n",
      "5.0 = double\n",
      "5 > 1 = Boolean. Relational operator, greater than\n",
      "'5' = Char (single quotes)\n",
      "'5' * 2 = arithmetic op. over 1 char and 1 int, equals integer = 106. In Python would be a concatenation of two copies of a char = 55\n",
      "'5' + '2' = arithmetic op. over 2 chars, equals integer = 103. In Python would be a concatenation of two chars: String = 52\n",
      "5 / 2 = Division of integers\n",
      "5 % 2 = arithmetic operator (Modulo)  for integers\n",
      "{5,2,1} = Array of integers\n",
      "5 == 3 = Boolean. Relational operator, 5 equals 3.\n",
      "Pi = double\n"
     ]
    }
   ],
   "source": [
    "Console.WriteLine(\"5 = integer\");\n",
    "Console.WriteLine(\"5.0 = double\");\n",
    "Console.WriteLine(\"5 > 1 = Boolean. Relational operator, greater than\");\n",
    "Console.WriteLine(\"'5' = Char (single quotes)\");\n",
    "Console.WriteLine(\"'5' * 2 = arithmetic op. over 1 char and 1 int, equals integer = 106. In Python would be a concatenation of two copies of a char = 55\");\n",
    "Console.WriteLine(\"'5' + '2' = arithmetic op. over 2 chars, equals integer = 103. In Python would be a concatenation of two chars: String = 52\");\n",
    "Console.WriteLine(\"5 / 2 = Division of integers\");\n",
    "Console.WriteLine(\"5 % 2 = arithmetic operator (Modulo)  for integers\");\n",
    "Console.WriteLine(\"{5,2,1} = Array of integers\");\n",
    "Console.WriteLine(\"5 == 3 = Boolean. Relational operator, 5 equals 3.\");\n",
    "Console.WriteLine(\"Pi = double\");\n"
   ]
  },
  {
   "cell_type": "markdown",
   "id": "34419b0f",
   "metadata": {},
   "source": [
    "# Question 2 C#\n",
    "<p>Write (and evaluate) C# expressions that answer these questions:</p>\n",
    "<p>a. How many letters are there in 'Supercalifragilisticexpialidocious'?</p>\n",
    "<p>b. Does 'Supercalifragilisticexpialidocious' contain 'ice' as a substring?</p>\n",
    "<p>c.Which of the following words is the longest:\n",
    "Supercalifragilisticexpialidocious, Honorificabilitudinitatibus, or\n",
    "Bababadalgharaghtakamminarronnkonn?</p>\n",
    "<p>d. Which composer comes first in the dictionary: 'Berlioz', 'Borodin', 'Brian',\n",
    "'Bartok', 'Bellini', 'Buxtehude', 'Bernstein'. Which one comes last?</p>"
   ]
  },
  {
   "cell_type": "code",
   "execution_count": 54,
   "id": "22689d32",
   "metadata": {
    "slideshow": {
     "slide_type": "fragment"
    }
   },
   "outputs": [
    {
     "name": "stdout",
     "output_type": "stream",
     "text": [
      "a. Supercalifragilisticexpialidocious has 34 letters\n",
      "b. True\n",
      "c. Supercalifragilisticexpialidocious and Bababadalgharaghtakamminarronnkonn are both the longest\n",
      "d. First: Bartok, and last: Buxtehude\n"
     ]
    }
   ],
   "source": [
    "//a.\n",
    "//referece: https://www.codeproject.com/Questions/177626/count-number-of-characters-in-a-string\n",
    "\n",
    "String a = \"Supercalifragilisticexpialidocious\"; //define variables. A String for the question, and a 0 integer to count all chars within String a\n",
    "String b = \"Honorificabilitudinitatibus\"; \n",
    "String c = \"Bababadalgharaghtakamminarronnkonn\"; \n",
    "\n",
    "int count = 0;\n",
    "\n",
    "/*foreach method will make count to iterate throguh a, and will increase it by 1 after each repetition,\n",
    "printing the result to validate it */\n",
    "\n",
    "foreach (char z in a) {\n",
    "    count++;\n",
    "}\n",
    "Console.WriteLine(\"a. \" +a+\" has \"+count+ \" letters\");\n",
    "\n",
    "\n",
    "\n",
    "\n",
    "//b.\n",
    "/*use if else statement and Contains() method to validate if a String input is a substring \n",
    "within an existing String*/\n",
    "\n",
    "if (a.Contains(\"ice\")){\n",
    "    Console.WriteLine(\"b. True\");\n",
    "}\n",
    "else {\n",
    "     Console.WriteLine(\"b. False\");   \n",
    "}\n",
    ";\n",
    "\n",
    "\n",
    "\n",
    "\n",
    "//c.\n",
    "//define new count variables to identify Strings' lenght\n",
    "int countStringA = 0;\n",
    "int countStringB = 0;\n",
    "int countStringC = 0;\n",
    "\n",
    "//forach method to iterate through the different words to identify their lenght\n",
    "foreach (char w in a) {\n",
    "    countStringA++;\n",
    "}\n",
    "\n",
    "foreach (char x in b) {\n",
    "    countStringB++;\n",
    "}\n",
    "foreach (char y in c) {\n",
    "    countStringC++;\n",
    "}\n",
    "\n",
    "if (countStringA > countStringB && countStringA > countStringC){        // a bigger than b and c\n",
    "    Console.WriteLine(\"c. \"+a+ \"is the longest\");   \n",
    "}else if (countStringB > countStringA && countStringB > countStringC){  //b bigger than a and c\n",
    "    Console.WriteLine(\"c. \"+b+ \"is the longest\"); \n",
    "}else if (countStringC > countStringA && countStringC > countStringB){  // c bigger than a and b\n",
    "    Console.WriteLine(\"c. \"+c+ \"is the longest\"); \n",
    "}else if (countStringA == countStringB && countStringA > countStringC){ //a equal b, and bigger than c\n",
    "    Console.WriteLine(\"c. \"+a+ \"and\"+b+\" are both the longest\"); \n",
    "}else if (countStringA == countStringC && countStringA > countStringB){ //a equal c, and bigger than b\n",
    "    Console.WriteLine(\"c. \"+a+ \" and \"+c+\" are both the longest\"); \n",
    "}\n",
    "\n",
    "\n",
    "\n",
    "\n",
    "//d.\n",
    "//create a list and add values\n",
    "var composers = new List<string>();\n",
    "    composers.Add(\"Borodin\");\n",
    "    composers.Add(\"Brian\");\n",
    "    composers.Add(\"Bartok\");\n",
    "    composers.Add(\"Berlioz\");\n",
    "    composers.Add(\"Bellini\");\n",
    "    composers.Add(\"Buxtehude\");\n",
    "    composers.Add(\"Bernstein\");\n",
    "\n",
    "composers.Sort(); \n",
    "Console.WriteLine(\"d. First: \"+composers.First()+\", and last: \"+composers.Last()); \n",
    "\n",
    "//methods extracted from: https://www.codegrepper.com/code-examples/csharp/get+first+and+last+item+list+c%23\n",
    "\n"
   ]
  },
  {
   "cell_type": "markdown",
   "id": "53681bf6",
   "metadata": {},
   "source": [
    "# Question 3 C#\n"
   ]
  },
  {
   "cell_type": "code",
   "execution_count": 55,
   "id": "a1e0ef31",
   "metadata": {},
   "outputs": [
    {
     "name": "stdout",
     "output_type": "stream",
     "text": [
      "1.7320508075688772\r\n"
     ]
    }
   ],
   "source": [
    "//reference: in [58] to [60] from lecture 02 \n",
    "\n",
    "\n",
    "//create a class and a function with 3 int parameters \n",
    "class triangleArea\n",
    "    {\n",
    "        public void Formula(int a,int b,int c)\n",
    "        {\n",
    "            int s = (a+b+c)/2;                                   //formula required for s\n",
    "                        \n",
    "            double area = Math.Sqrt(s*(s - a)*(s - b)*(s - c));  //use the Math class to get square root and apply Heron's formula to the parameters\n",
    "            Console.WriteLine(area);                    \n",
    "\n",
    "        }\n",
    "    }\n",
    "\n",
    "//input the 3 length sides requiref\n",
    "int a = 2;\n",
    "int b = 2;\n",
    "int c = 2;\n",
    "\n",
    "triangleArea triangle = new triangleArea();    //create a triangle object that will call the function above.\n",
    "triangle.Formula(a,b,c);"
   ]
  },
  {
   "cell_type": "markdown",
   "id": "bd12635d",
   "metadata": {},
   "source": [
    "# Question 4 C#"
   ]
  },
  {
   "cell_type": "code",
   "execution_count": 74,
   "id": "f7ce3403",
   "metadata": {},
   "outputs": [
    {
     "name": "stdout",
     "output_type": "stream",
     "text": [
      "Even:\n",
      "42\n",
      "56\n",
      "32\n",
      "Odd:\n",
      "25\n",
      "47\n"
     ]
    }
   ],
   "source": [
    "// create and populate the array\n",
    "int[] numbers = new int [5];\n",
    "    numbers[0] = 25;\n",
    "    numbers[1] = 47;\n",
    "    numbers[2] = 42;\n",
    "    numbers[3] = 56;\n",
    "    numbers[4] = 32;\n",
    "\n",
    "Console.WriteLine(\"Even:\");\n",
    "for (int i = 0; i <numbers.Length; i++)   //iterate through all the indexes of the array, and use modulo operator to check if the remainder is 0 (even)\n",
    "{\n",
    "    if (numbers[i]%2 == 0){\n",
    "        Console.WriteLine(numbers[i]);\n",
    "    }\n",
    "}\n",
    "    \n",
    "Console.WriteLine(\"Odd:\"); \n",
    "for (int i = 0; i <numbers.Length; i++)\n",
    "{\n",
    "    if (numbers[i]%2 != 0){\n",
    "        Console.WriteLine(numbers[i]);\n",
    "    }        \n",
    "}       "
   ]
  },
  {
   "cell_type": "markdown",
   "id": "09bc4c45",
   "metadata": {},
   "source": [
    "# Question 5 C#"
   ]
  },
  {
   "cell_type": "code",
   "execution_count": 53,
   "id": "c3a83940",
   "metadata": {},
   "outputs": [
    {
     "name": "stdout",
     "output_type": "stream",
     "text": [
      "a1. true\n",
      "a2. false\n"
     ]
    }
   ],
   "source": [
    "class Question5\n",
    "{ \n",
    "// method that will take the parameters of the point and rectangles\n",
    "    public void inside(double x, double y, double x1, double y1, double x2, double y2)\n",
    "    {\n",
    "        if (x > x1 && x < x2 && y > y1 && y < y2) //if statement to validate if x and y are within the rectlange area\n",
    "        {\n",
    "            Console.WriteLine(\"a1. true\");\n",
    "        }else   \n",
    "            Console.WriteLine(\"a2. false\");        \n",
    "    }  \n",
    "}   \n",
    "\n",
    "\n",
    "//create a new object object that will call the function above.\n",
    "Question5 isItInside = new Question5();\n",
    "isItInside.inside(1,1,0,0,2,3);\n",
    "isItInside.inside(-1,-1,0,0,2,3);\n",
    "\n",
    "\n"
   ]
  }
 ],
 "metadata": {
  "kernelspec": {
   "display_name": ".NET (C#)",
   "language": "C#",
   "name": ".net-csharp"
  },
  "language_info": {
   "file_extension": ".cs",
   "mimetype": "text/x-csharp",
   "name": "C#",
   "pygments_lexer": "csharp",
   "version": "9.0"
  }
 },
 "nbformat": 4,
 "nbformat_minor": 5
}
