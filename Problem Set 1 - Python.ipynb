{
 "cells": [
  {
   "cell_type": "markdown",
   "id": "ba9c1fb5",
   "metadata": {},
   "source": [
    "# Question 6 - Python"
   ]
  },
  {
   "cell_type": "code",
   "execution_count": 94,
   "id": "586d1b4f",
   "metadata": {},
   "outputs": [
    {
     "name": "stdout",
     "output_type": "stream",
     "text": [
      "eternityway\n",
      "atiasmay\n",
      "helseacay\n"
     ]
    }
   ],
   "source": [
    "# additional support from: https://stackoverflow.com/questions/3559559/how-to-delete-a-character-from-a-string-using-python\n",
    "\n",
    "def pigLatin(x):\n",
    "\n",
    "    #check if word is a vowel or consonant, convert word to lowercase, and print with the addition\n",
    "    if x[0].lower() == 'a' or x[0].lower() == 'e' or x[0].lower() == 'i' or x[0].lower() == 'o'or x[0].lower() == 'u': \n",
    "        print(x.lower()+'way')\n",
    "        \n",
    "    else :                                  #if consonant, create a new string, removing the first index of the word given. \n",
    "        newX = x.replace(x[0],'')           #create a final string to add the first index of the original word and the addition. \n",
    "        print (pigConsonant.lower())\n",
    "            \n",
    "        \n",
    "pigLatin('Eternity')\n",
    "pigLatin('matias')\n",
    "pigLatin('CHELSEA')"
   ]
  },
  {
   "cell_type": "markdown",
   "id": "110857d3",
   "metadata": {},
   "source": [
    "# Question 7 - Python"
   ]
  },
  {
   "cell_type": "code",
   "execution_count": 93,
   "id": "67a416ab",
   "metadata": {},
   "outputs": [
    {
     "name": "stdout",
     "output_type": "stream",
     "text": [
      "There are 15 patients of blood type A\n",
      "There are 13 patients of blood type B\n",
      "There are 13 patients of blood type AB\n",
      "There are 15 patients of blood type O\n",
      "There are 0 patients of blood type OO\n"
     ]
    }
   ],
   "source": [
    "#referece: https://pythonexamples.org/python-count-number-of-words-in-text-file/\n",
    "\n",
    "\n",
    "file = open('Bloodtype1.txt', 'r') #open the file from its location, with r open file mode (default for read)\n",
    "data = file.read();                #create variables that include the open method\n",
    "words = data.split()               #create a variable that splits the words within the txt file\n",
    "\n",
    "#define variables to count the number of each blood type within the sample\n",
    "countA = 0\n",
    "countB = 0\n",
    "countAB = 0\n",
    "countO = 0\n",
    "countOO = 0\n",
    "\n",
    "for a in words :          #for loop to iterate thorugh the txt lenght and increase the variable by 1 each time there is a match on the blood type\n",
    "\n",
    "    if a == 'A' :\n",
    "        countA  += 1\n",
    "print(\"There are\",countA,\"patients of blood type A\")\n",
    "\n",
    "for b in words :\n",
    "\n",
    "    if b == 'AB' :\n",
    "        countB  += 1\n",
    "print(\"There are\",countB,\"patients of blood type B\")\n",
    "    \n",
    "for ab in words :\n",
    "\n",
    "    if ab == 'AB' :\n",
    "        countAB  += 1\n",
    "print(\"There are\",countAB,\"patients of blood type AB\")\n",
    "\n",
    "for o in words :\n",
    "\n",
    "    if o == 'O' :\n",
    "        countO  += 1\n",
    "print(\"There are\",countO,\"patients of blood type O\")\n",
    "\n",
    "for oo in words :\n",
    "\n",
    "    if oo == 'OO' :\n",
    "        countOO  += 1\n",
    "print(\"There are\",countOO,\"patients of blood type OO\")"
   ]
  },
  {
   "cell_type": "markdown",
   "id": "405a03d1",
   "metadata": {},
   "source": [
    "# Question 8 - Python"
   ]
  },
  {
   "cell_type": "code",
   "execution_count": 220,
   "id": "8e55f34d",
   "metadata": {},
   "outputs": [
    {
     "data": {
      "text/plain": [
       "122.96544"
      ]
     },
     "execution_count": 220,
     "metadata": {},
     "output_type": "execute_result"
    }
   ],
   "source": [
    "#reference: https://www.w3schools.com/python/python_conditions.asp\n",
    "\n",
    "#define function that takes two parameters\n",
    "def curconv(a, b) :\n",
    "\n",
    "#declare currencies and their ammounts\n",
    "    AUD = 1.0345157\n",
    "    CHF = 1.0237414\n",
    "    CNY = 0.1550176\n",
    "    DKK = 0.1651442\n",
    "    EUR = 1.2296544\n",
    "    GBP = 1.5550989\n",
    "    HKD = 0.1270207\n",
    "    INR = 0.0177643\n",
    "    JPY = 0.01241401\n",
    "    MXN = 0.0751848\n",
    "    MYR = 0.3145411\n",
    "    NOK = 0.1677063\n",
    "    NZD = 0.8003591\n",
    "    PHP = 0.0233234\n",
    "    SEK = 0.148269\n",
    "    SGD = 0.788871\n",
    "    THB = 0.0313789\n",
    "\n",
    "#use if statement to match input to an existing currency, and proceed with the currency calculation\n",
    "    if a == 'AUD' :\n",
    "        result = b*AUD\n",
    "        return(result)\n",
    "        \n",
    "    elif a == 'CHF' :\n",
    "        result = b*CHF\n",
    "        return(result)\n",
    "        \n",
    "    elif a == 'CNY' :\n",
    "        result = b*CNY\n",
    "        return(result)\n",
    "        \n",
    "    elif a == 'DKK' :\n",
    "        result = b*DKK\n",
    "        return(result) \n",
    "\n",
    "    elif a == 'EUR' :\n",
    "        result = b*EUR\n",
    "        return(result) \n",
    "\n",
    "    elif a == 'GBP' :\n",
    "        result = b*GBP\n",
    "        return(result) \n",
    "\n",
    "    elif a == 'HKD' :\n",
    "        result = b*HKD\n",
    "        return(result) \n",
    "\n",
    "    elif a == 'INR' :\n",
    "        result = b*INR\n",
    "        return(result) \n",
    "        \n",
    "    elif a == 'JPY' :\n",
    "        result = b*JPY\n",
    "        return(result) \n",
    "        \n",
    "    elif a == 'MXN' :\n",
    "        result = b*MXN\n",
    "        return(result)        \n",
    " \n",
    "    elif a == 'MYR' :\n",
    "        result = b*MYR\n",
    "        return(result) \n",
    "\n",
    "    elif a == 'NOK' :\n",
    "        result = b*NOK\n",
    "        return(result) \n",
    "    \n",
    "    elif a == 'NZD' :\n",
    "        result = b*NZD\n",
    "        return(result)  \n",
    "    \n",
    "    elif a == 'PHP' :\n",
    "        result = b*PHP\n",
    "        return(result)  \n",
    "    \n",
    "    elif a == 'SEK' :\n",
    "        result = b*SEK\n",
    "        return(result)      \n",
    "    \n",
    "    elif a == 'SGD' :\n",
    "        result = b*SGD\n",
    "        return(result)  \n",
    "\n",
    "    elif a == 'THB' :\n",
    "        result = b*THB\n",
    "        return(result)  \n",
    "    \n",
    "    else :\n",
    "        print (\"Sorry, \", a, \" currency is not available\")\n",
    "        \n",
    "curconv('EUR', 100)\n",
    "\n"
   ]
  },
  {
   "cell_type": "markdown",
   "id": "f76989ec",
   "metadata": {},
   "source": [
    "# Question 9 - Python"
   ]
  },
  {
   "cell_type": "code",
   "execution_count": 173,
   "id": "0e225eab",
   "metadata": {},
   "outputs": [
    {
     "name": "stdout",
     "output_type": "stream",
     "text": [
      "a. TypeError, since string and int cannot go through an arithmetic operation\n",
      "b. IndexError, since the list created has 10 items within indexes 0 to 9. Any index requested after index 9 will be out of range.\n",
      "c. ValueError, since the method is correct but the value does no allow the calculation\n",
      "d. NameError, since variable s is not declared and it has no content within it\n",
      "E. FileNotFoundError, since the file name stated does not match the records\n"
     ]
    }
   ],
   "source": [
    "print(\"a. TypeError, since string and int cannot go through an arithmetic operation\")\n",
    "print(\"b. IndexError, since the list created has 10 items within indexes 0 to 9. Any index requested after index 9 will be out of range.\")\n",
    "print(\"c. ValueError, since the method is correct but the value does no allow the calculation\")\n",
    "print(\"d. NameError, since variable s is not declared and it has no content within it\")\n",
    "print(\"E. FileNotFoundError, since the file name stated does not match the records\")"
   ]
  },
  {
   "cell_type": "markdown",
   "id": "3761946f",
   "metadata": {},
   "source": [
    "# Question 10 - Python"
   ]
  },
  {
   "cell_type": "code",
   "execution_count": 226,
   "id": "3c93623f",
   "metadata": {},
   "outputs": [
    {
     "name": "stdout",
     "output_type": "stream",
     "text": [
      "dict_values([1, 1, 1, 3, 5, 1, 1, 2, 1, 0, 1, 0, 1, 2, 4, 0, 1, 2, 0, 3, 1, 0, 1, 1, 0, 0])\n",
      "dict_values([1, 0, 0, 0, 1, 0, 0, 0, 0, 0, 0, 1, 0, 0, 0, 2, 0, 0, 0, 0, 0, 0, 0, 0, 0, 0])\n"
     ]
    }
   ],
   "source": [
    "#reference: Ethan Davis' feedback to Jasmeet Kaur's code during office hours on June 10, 2021\n",
    "#The original code had no comments so I am adding them as part of the understanding process\n",
    "\n",
    "def frequencies(str):\n",
    "    \n",
    "\n",
    "    s = str.lower()                     #create a variable that takes the string input and converts it to lowercase\n",
    "    counters = {}                       #create an array to be poulated with integers   \n",
    "\n",
    "\n",
    "    for i in range(97,123,1) :          #i iterates through the alphabet (a-z)and increases i by 1 after each loop\n",
    "        counters [chr(i)] = 0           #the array will be populated with chars starting with 'a' in index 0.\n",
    "        for char in s:                  #for every character in the string input: then \n",
    "            if char == chr(i):          #if the char matches index 0 = 'a', the counter for that index will increment by 1\n",
    "                counters [chr(i)] += 1  #after the loop is complete for index 0 = 'a', it will continue with all the other chars, identifying how many times it appears in the string           \n",
    "\n",
    "                \n",
    "    \n",
    "    print(counters.values()) #the values() will show the number of repetitions for each char (a to z) in the string\n",
    "    \n",
    "word1 = \"The quick red fox got bored and went home\"\n",
    "word2 = \"apple\"\n",
    "\n",
    "frequencies(word1)\n",
    "frequencies(word2)"
   ]
  }
 ],
 "metadata": {
  "kernelspec": {
   "display_name": "Python 3",
   "language": "python",
   "name": "python3"
  },
  "language_info": {
   "codemirror_mode": {
    "name": "ipython",
    "version": 3
   },
   "file_extension": ".py",
   "mimetype": "text/x-python",
   "name": "python",
   "nbconvert_exporter": "python",
   "pygments_lexer": "ipython3",
   "version": "3.8.8"
  }
 },
 "nbformat": 4,
 "nbformat_minor": 5
}
